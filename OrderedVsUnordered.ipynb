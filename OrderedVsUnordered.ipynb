{
 "cells": [
  {
   "cell_type": "markdown",
   "metadata": {},
   "source": [
    "```python\n",
    ">>> letters = 'abcdefghijklmnopqrstuvwxyzABCDEFGHIJKLMNOPQRSTUVWXYZ'\n",
    "\n",
    ">>> string_letters = str(letters) ①\n",
    ">>> lists_letters = list(letters) ②\n",
    ">>> sets_letters = set(letters) ③\n",
    "\n",
    ">>> string_letters\n",
    "String:  abcdefghijklmnopqrstuvwxyzABCDEFGHIJKLMNOPQRSTUVWXYZ\n",
    ">>> lists_letters\n",
    "Lists:  ['a', 'b', 'c', 'd', 'e', 'f', 'g', 'h', 'i', 'j', 'k', 'l', 'm', 'n', 'o', 'p', 'q', 'r', 's', 't', 'u', 'v', 'w', 'x', 'y', 'z', 'A', 'B', 'C', 'D', 'E', 'F', 'G', 'H', 'I', 'J', 'K', 'L', 'M', 'N', 'O', 'P', 'Q', 'R', 'S', 'T', 'U', 'V', 'W', 'X', 'Y', 'Z']\n",
    ">>> sets_letters\n",
    "Sets:  {'W', 'S', 'I', 'B', 'v', 'e', 'w', 'b', 'd', 'x', 'q', 'R', 'N', 'M', 'E', 'K', 'u', 'C', 'g', 'Q', 'V', 'Z', 'r', 'n', 'A', 'D', 'T', 'o', 'U', 'f', 'c', 'j', 'y', 'P', 'm', 'O', 'L', 'h', 'i', 'Y', 'l', 'F', 's', 'p', 'X', 'J', 'k', 'a', 'H', 't', 'G', 'z'}\n",
    "\n",
    "```"
   ]
  },
  {
   "cell_type": "code",
   "execution_count": 40,
   "metadata": {},
   "outputs": [
    {
     "data": {
      "text/plain": [
       "array([0.5507979 , 0.70814782, 0.29090474, 0.51082761, 0.89294695,\n",
       "       0.89629309, 0.12558531, 0.20724288, 0.0514672 , 0.44080984])"
      ]
     },
     "execution_count": 40,
     "metadata": {},
     "output_type": "execute_result"
    }
   ],
   "source": [
    "np.random.seed(3)\n",
    "np.random.rand(10)"
   ]
  },
  {
   "cell_type": "markdown",
   "metadata": {},
   "source": [
    "① Convert letters to string.\n",
    "\n",
    "② Convert letters to list.\n",
    "\n",
    "③ Convert letters to set.\n",
    "\n",
    "If we look at the output for strings and lists, they are in same order as they are specified intially. And these data structures guarantee this order. So strings and lists are ordered collections of objects.\n",
    "\n",
    "If we look at the result of sets, initial order, the order in which we specified the elements, is not maintained. So sets are unordered collections of objects."
   ]
  },
  {
   "cell_type": "code",
   "execution_count": 74,
   "metadata": {},
   "outputs": [],
   "source": [
    "def approximate_size(size, a_kilobyte_is_1024_bytes=True):\n",
    "    '''Convert a file size to human-readable form.\n",
    "\n",
    "    Keyword arguments:\n",
    "    size -- file size in bytes\n",
    "    a_kilobyte_is_1024_bytes -- if True (default), use multiples of 1024\n",
    "                                if False, use multiples of 1000\n",
    "\n",
    "    Returns: string\n",
    "\n",
    "    '''"
   ]
  },
  {
   "cell_type": "code",
   "execution_count": 76,
   "metadata": {},
   "outputs": [
    {
     "data": {
      "text/plain": [
       "1"
      ]
     },
     "execution_count": 76,
     "metadata": {},
     "output_type": "execute_result"
    }
   ],
   "source": [
    "x = [1, 0, 3] \n",
    "x[0]\n",
    "\n",
    "y = {\"welcome\": 100, 1:\"toto\", 2.9:[1,2,3]}\n",
    "\n",
    "y[\"welcome\"]\n",
    "\n",
    "y[2.9][0]"
   ]
  }
 ],
 "metadata": {
  "kernelspec": {
   "display_name": "Python 3",
   "language": "python",
   "name": "python3"
  },
  "language_info": {
   "codemirror_mode": {
    "name": "ipython",
    "version": 3
   },
   "file_extension": ".py",
   "mimetype": "text/x-python",
   "name": "python",
   "nbconvert_exporter": "python",
   "pygments_lexer": "ipython3",
   "version": "3.7.4"
  }
 },
 "nbformat": 4,
 "nbformat_minor": 2
}
